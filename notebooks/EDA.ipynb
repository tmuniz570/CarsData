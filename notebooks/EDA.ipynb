{
 "cells": [
  {
   "cell_type": "code",
   "execution_count": null,
   "id": "f7c64071",
   "metadata": {},
   "outputs": [],
   "source": [
    "import pandas as pd\n",
    "import plotly.express as px"
   ]
  },
  {
   "cell_type": "code",
   "execution_count": null,
   "id": "6b6bfbe5",
   "metadata": {},
   "outputs": [],
   "source": [
    "# Load the CSV file\n",
    "vehicles_df = pd.read_csv('../vehicles.csv')"
   ]
  },
  {
   "cell_type": "code",
   "execution_count": null,
   "id": "f7107029",
   "metadata": {},
   "outputs": [],
   "source": [
    "# Display the first few rows of the dataset\n",
    "print(\"First 5 rows of the dataset:\")\n",
    "print(vehicles_df.head())\n",
    "\n",
    "# Display basic information about the dataset\n",
    "print(\"\\nDataset Info:\")\n",
    "print(vehicles_df.info())\n",
    "\n",
    "# Display summary statistics for numerical columns\n",
    "print(\"\\nSummary Statistics:\")\n",
    "print(vehicles_df.describe())\n",
    "\n",
    "# Check for missing values\n",
    "print(\"\\nMissing Values:\")\n",
    "print(vehicles_df.isnull().sum())"
   ]
  },
  {
   "cell_type": "code",
   "execution_count": null,
   "id": "c853e637",
   "metadata": {},
   "outputs": [],
   "source": [
    "# Create a histogram of the 'odometer' column\n",
    "fig = px.histogram(vehicles_df, x=\"odometer\")\n",
    "fig.update_layout(title=\"Histogram of Odometer Readings\", xaxis_title=\"Odometer\", yaxis_title=\"Count\")\n",
    "fig.show()"
   ]
  },
  {
   "cell_type": "code",
   "execution_count": null,
   "id": "f3700c5a",
   "metadata": {},
   "outputs": [],
   "source": [
    "fig = px.scatter(vehicles_df, x=\"odometer\", y=\"price\")\n",
    "fig.update_layout(title=\"Scatter Plot of Odometer vs Price\", xaxis_title=\"Odometer\", yaxis_title=\"Price\")\n",
    "fig.show()"
   ]
  }
 ],
 "metadata": {
  "kernelspec": {
   "display_name": "vehicles_env",
   "language": "python",
   "name": "python3"
  },
  "language_info": {
   "codemirror_mode": {
    "name": "ipython",
    "version": 3
   },
   "file_extension": ".py",
   "mimetype": "text/x-python",
   "name": "python",
   "nbconvert_exporter": "python",
   "pygments_lexer": "ipython3",
   "version": "3.13.2"
  }
 },
 "nbformat": 4,
 "nbformat_minor": 5
}
